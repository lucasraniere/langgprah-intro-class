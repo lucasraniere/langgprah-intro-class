{
 "cells": [
  {
   "cell_type": "markdown",
   "id": "f183b4e4",
   "metadata": {},
   "source": [
    "### **RAG (Retrieval-Augmented Generation)**\n",
    "\n",
    "Técnica avançada para ampliar o conhecimento de uma LLM com contexto adicional externo.\n",
    "\n",
    "Composta por dois componentes principais:\n",
    "- Recuperação de informação (Retrieval)\n",
    "- Geração de respostas (Generation)\n",
    "\n",
    "Instalação de bibliotecas"
   ]
  },
  {
   "cell_type": "code",
   "execution_count": null,
   "id": "7a00d57c",
   "metadata": {},
   "outputs": [],
   "source": [
    "!pip install -U -q langgraph langchain langchain-google-genai pypdf langchain_huggingface sentence_transformers faiss-cpu"
   ]
  },
  {
   "cell_type": "markdown",
   "id": "3c28f3ae",
   "metadata": {},
   "source": [
    "*Imports* e *setup* de chaves de API.\n",
    "\n",
    "- Google Gemini API Key: https://aistudio.google.com/app/apikey?hl=pt-br"
   ]
  },
  {
   "cell_type": "code",
   "execution_count": 1,
   "id": "79c37513",
   "metadata": {},
   "outputs": [],
   "source": [
    "import os, getpass\n",
    "\n",
    "def _set_env(var: str):\n",
    "    if not os.environ.get(var):\n",
    "        os.environ[var] = getpass.getpass(f\"{var}: \")\n",
    "\n",
    "_set_env(\"GOOGLE_API_KEY\")"
   ]
  },
  {
   "cell_type": "code",
   "execution_count": 2,
   "id": "5fc99012",
   "metadata": {},
   "outputs": [],
   "source": [
    "from langchain_google_genai import ChatGoogleGenerativeAI\n",
    "\n",
    "llm = ChatGoogleGenerativeAI(model=\"gemini-2.5-flash\", temperature=0) # instanciando o modelo Gemini"
   ]
  },
  {
   "cell_type": "code",
   "execution_count": null,
   "id": "b801af01",
   "metadata": {},
   "outputs": [],
   "source": [
    "from langchain import hub\n",
    "from langchain_community.document_loaders import PyPDFLoader\n",
    "from langchain_core.documents import Document\n",
    "from langchain_text_splitters import RecursiveCharacterTextSplitter\n",
    "from langgraph.graph import START, StateGraph\n",
    "from typing_extensions import List, TypedDict\n",
    "\n",
    "loader = PyPDFLoader('pdf/cardapio.pdf') # carregando o texto do arquivo PDF (cardápio)\n",
    "docs = loader.load() # gerando os documentos\n"
   ]
  },
  {
   "cell_type": "code",
   "execution_count": 4,
   "id": "cb206252",
   "metadata": {},
   "outputs": [],
   "source": [
    "# divisão do texto em chunks, necessário quando o(s) documento(s) é(são) muito grande(s)\n",
    "text_splitter = RecursiveCharacterTextSplitter(chunk_size=1000, chunk_overlap=200)\n",
    "all_splits = text_splitter.split_documents(docs)"
   ]
  },
  {
   "cell_type": "code",
   "execution_count": null,
   "id": "2e714be3",
   "metadata": {},
   "outputs": [
    {
     "name": "stderr",
     "output_type": "stream",
     "text": [
      "/Users/lucasraniere/git/langgprah-intro-class/.venv/lib/python3.11/site-packages/tqdm/auto.py:21: TqdmWarning: IProgress not found. Please update jupyter and ipywidgets. See https://ipywidgets.readthedocs.io/en/stable/user_install.html\n",
      "  from .autonotebook import tqdm as notebook_tqdm\n"
     ]
    }
   ],
   "source": [
    "from langchain_huggingface import HuggingFaceEmbeddings\n",
    "from langchain_community.vectorstores import FAISS\n",
    "\n",
    "embeddings = HuggingFaceEmbeddings(model_name=\"sentence-transformers/all-MiniLM-L6-v2\") # modelo de embeddings\n",
    "vectorstore = FAISS.from_documents(all_splits, embedding=embeddings) # criando o vector store"
   ]
  },
  {
   "cell_type": "code",
   "execution_count": null,
   "id": "d7132856",
   "metadata": {},
   "outputs": [],
   "source": [
    "prompt = hub.pull(\"rlm/rag-prompt\") # prompt utilizado para a RAG\n",
    "\n",
    "\n",
    "# Definindo o estado da aplicação\n",
    "class State(TypedDict):\n",
    "    question: str\n",
    "    context: List[Document]\n",
    "    answer: str\n",
    "\n",
    "# função de recuperação de informação\n",
    "def retrieve(state: State):\n",
    "    retrieved_docs = vectorstore.similarity_search(state[\"question\"])\n",
    "    return {\"context\": retrieved_docs}\n",
    "\n",
    "# função de geração de resposta\n",
    "def generate(state: State):\n",
    "    docs_content = \"\\n\\n\".join(doc.page_content for doc in state[\"context\"])\n",
    "    messages = prompt.invoke({\"question\": state[\"question\"], \"context\": docs_content})\n",
    "    response = llm.invoke(messages)\n",
    "    return {\"answer\": response.content}\n",
    "\n",
    "\n",
    "# Compilando grafo\n",
    "graph_builder = StateGraph(State).add_sequence([retrieve, generate])\n",
    "graph_builder.add_edge(START, \"retrieve\")\n",
    "graph = graph_builder.compile()"
   ]
  },
  {
   "cell_type": "code",
   "execution_count": 8,
   "id": "154d8266",
   "metadata": {},
   "outputs": [
    {
     "data": {
      "image/png": "[encoded data removed]",
      "text/plain": [
       "<IPython.core.display.Image object>"
      ]
     },
     "metadata": {},
     "output_type": "display_data"
    }
   ],
   "source": [
    "from IPython.display import Image, display\n",
    "try:\n",
    "    display(Image(graph.get_graph().draw_mermaid_png()))\n",
    "except Exception:\n",
    "    pass"
   ]
  },
  {
   "cell_type": "code",
   "execution_count": 9,
   "id": "3ee1cdb6",
   "metadata": {},
   "outputs": [
    {
     "name": "stdout",
     "output_type": "stream",
     "text": [
      "O X-BACON contém alface, tomate, batata palha, milho, hambúrguer, presunto, muçarela e bacon.\n"
     ]
    }
   ],
   "source": [
    "response = graph.invoke({\"question\": \"Quais os ingredientes do X-BACON?\"})\n",
    "print(response[\"answer\"])"
   ]
  },
  {
   "cell_type": "code",
   "execution_count": 10,
   "id": "21cfdd2c",
   "metadata": {},
   "outputs": [
    {
     "name": "stdout",
     "output_type": "stream",
     "text": [
      "O FRANGO ESPECIAL custa R$ 22.\n"
     ]
    }
   ],
   "source": [
    "response = graph.invoke({\"question\": \"Quanto custa um FRANGO ESPECIAL?\"})\n",
    "print(response[\"answer\"])"
   ]
  },
  {
   "cell_type": "code",
   "execution_count": 12,
   "id": "5b5c13a6",
   "metadata": {},
   "outputs": [],
   "source": [
    "def multiply(a: int, b: int) -> int:\n",
    "    \"\"\"Multiplica a e b.\n",
    "\n",
    "    Args:\n",
    "        a (int): Primeiro número.\n",
    "        b (int): Segundo número.\n",
    "    \"\"\"\n",
    "    return a * b\n",
    "\n",
    "\n",
    "def add(a: int, b: int) -> int:\n",
    "    \"\"\"Adiciona a e b.\n",
    "\n",
    "    Args:\n",
    "        a (int): Primeiro número.\n",
    "        b (int): Segundo número.\n",
    "    \"\"\"\n",
    "    return a + b\n",
    "\n",
    "def sub(a: int, b: int) -> int:\n",
    "    \"\"\"Subtrai a e b.\n",
    "\n",
    "    Args:\n",
    "        a (int): Primeiro número.\n",
    "        b (int): Segundo número.\n",
    "    \"\"\"\n",
    "    return a - b\n",
    "\n",
    "\n",
    "def divide(a: int, b: int) -> float:\n",
    "    \"\"\"Divide a e b.\n",
    "\n",
    "    Args:\n",
    "        a (int): Primeiro número.\n",
    "        b (int): Segundo número.\n",
    "    \"\"\"\n",
    "    return a / b\n",
    "\n",
    "\n",
    "def rag(query: str):\n",
    "    \"\"\"Recebe a solicitação do cliente para ser pesquisada\n",
    "    na base interna de RAG.\n",
    "\n",
    "    Args:\n",
    "        query (str): solicitação do cliente.\n",
    "    \"\"\"\n",
    "    response = graph.invoke({\"question\": query})\n",
    "    return response[\"answer\"]\n",
    "\n",
    "\n",
    "tools = [add, multiply, divide, sub, rag]\n",
    "llm_with_tools = llm.bind_tools(tools)"
   ]
  },
  {
   "cell_type": "code",
   "execution_count": 13,
   "id": "622e7610",
   "metadata": {},
   "outputs": [],
   "source": [
    "from langgraph.graph import MessagesState\n",
    "from langchain_core.messages import HumanMessage, SystemMessage\n",
    "\n",
    "# Mensagem de sistema\n",
    "sys_msg = SystemMessage(content='''\n",
    "Você é um ajudante útil responsavel por responder questões sobre o cardápio de uma lanchonete.\n",
    "\n",
    "Para tal, você terá acesso à ferramentas:\n",
    "\n",
    "- Ferramenta de RAG: quando o usuário perguntar sobre coisas relacionadas ao cardápio, você acessar a base interna e verificar o pedido do cliente.\n",
    "-- Seja específicos nas requisições, por exemplo: se o cliente perguntar o preço do produto X, solicite \"produto X preço\"\n",
    "- Ferramentas de aritimética: caso a solicitação do cliente envolva aritmética referente aos preços dos lanches, você deve utilizar as ferramentas de aritmética para calcular.\n",
    "\n",
    "Você tem acesso as seguintes ferramentas:\n",
    "<tools>\n",
    "-RAG\n",
    "-multiply\n",
    "-add\n",
    "-sub\n",
    "-divide\n",
    "<\\tools>\n",
    "\n",
    "Caso a solicitação não tiver relação com a lachonete, reponda coridialmente que não pode ajudar e finalize o atendimento, indo para o END.\n",
    "\n",
    "Caso o produto solicitado não estiver na base RAG, informe cordialmente ao cliente.\n",
    "''')\n",
    "\n",
    "# Nó\n",
    "def assistant(state: MessagesState):\n",
    "    return {\"messages\": [llm_with_tools.invoke([sys_msg] + state[\"messages\"])]}"
   ]
  },
  {
   "cell_type": "code",
   "execution_count": 14,
   "id": "1ac6971f",
   "metadata": {},
   "outputs": [
    {
     "data": {
      "image/png": "[encoded data removed]",
      "text/plain": [
       "<IPython.core.display.Image object>"
      ]
     },
     "metadata": {},
     "output_type": "display_data"
    }
   ],
   "source": [
    "from langgraph.graph import START, END, StateGraph\n",
    "from langgraph.prebuilt import tools_condition\n",
    "from langgraph.prebuilt import ToolNode\n",
    "from IPython.display import Image, display\n",
    "\n",
    "# Grafo\n",
    "builder = StateGraph(MessagesState)\n",
    "\n",
    "# Definição de nós\n",
    "builder.add_node(\"assistant\", assistant)\n",
    "builder.add_node(\"tools\", ToolNode(tools))\n",
    "\n",
    "# Definição de arestas\n",
    "builder.add_edge(START, \"assistant\")\n",
    "builder.add_conditional_edges(\n",
    "    \"assistant\",\n",
    "    # if the latest message (result) from assistant is a tool call -> tools_condition routes to tools\n",
    "    # if the latest message (result) from assistant is not a tool call -> tools_condition routes to end\n",
    "    tools_condition,\n",
    "    END\n",
    ")\n",
    "builder.add_edge(\"tools\", \"assistant\")\n",
    "\n",
    "react_graph = builder.compile()\n",
    "\n",
    "# Visualização\n",
    "display(Image(react_graph.get_graph(xray=True).draw_mermaid_png()))"
   ]
  },
  {
   "cell_type": "code",
   "execution_count": 15,
   "id": "6f3743c8",
   "metadata": {},
   "outputs": [],
   "source": [
    "messages = [HumanMessage(content=\"Quanto custa um X-FRANGO? mais um  X-BACON\")]\n",
    "messages = react_graph.invoke({\"messages\": messages})"
   ]
  },
  {
   "cell_type": "code",
   "execution_count": 16,
   "id": "dd3a2764",
   "metadata": {},
   "outputs": [
    {
     "name": "stdout",
     "output_type": "stream",
     "text": [
      "================================\u001b[1m Human Message \u001b[0m=================================\n",
      "\n",
      "Quanto custa um X-FRANGO? mais um  X-BACON\n",
      "==================================\u001b[1m Ai Message \u001b[0m==================================\n",
      "Tool Calls:\n",
      "  rag (9731431a-81b3-4b74-b75b-25b782a94d31)\n",
      " Call ID: 9731431a-81b3-4b74-b75b-25b782a94d31\n",
      "  Args:\n",
      "    query: X-FRANGO preço\n",
      "=================================\u001b[1m Tool Message \u001b[0m=================================\n",
      "Name: rag\n",
      "\n",
      "O preço do X-FRANGO é R$ 22. Este valor também se aplica a outras opções como X-BACON, X-BACON TURBO, X-FRANGO TURBO, Frango Especial e Frango Mega.\n",
      "==================================\u001b[1m Ai Message \u001b[0m==================================\n",
      "Tool Calls:\n",
      "  add (418ddf69-125f-4ce9-8430-07116f39604a)\n",
      " Call ID: 418ddf69-125f-4ce9-8430-07116f39604a\n",
      "  Args:\n",
      "    a: 22.0\n",
      "    b: 22.0\n",
      "=================================\u001b[1m Tool Message \u001b[0m=================================\n",
      "Name: add\n",
      "\n",
      "44\n",
      "==================================\u001b[1m Ai Message \u001b[0m==================================\n",
      "\n",
      "O X-FRANGO custa R$ 22 e o X-BACON também custa R$ 22. O total para os dois lanches é R$ 44.\n"
     ]
    }
   ],
   "source": [
    "for m in messages['messages']:\n",
    "    m.pretty_print()"
   ]
  },
  {
   "cell_type": "code",
   "execution_count": 17,
   "id": "fe047ddc",
   "metadata": {},
   "outputs": [],
   "source": [
    "messages = [HumanMessage(content=\"Quero comprar um FRANGO ESPECIAL e um refrigerante de 2 litros, quanto fica?\")]\n",
    "messages = react_graph.invoke({\"messages\": messages})"
   ]
  },
  {
   "cell_type": "code",
   "execution_count": 18,
   "id": "671b8d0b",
   "metadata": {},
   "outputs": [
    {
     "name": "stdout",
     "output_type": "stream",
     "text": [
      "================================\u001b[1m Human Message \u001b[0m=================================\n",
      "\n",
      "Quero comprar um FRANGO ESPECIAL e um refrigerante de 2 litros, quanto fica?\n",
      "==================================\u001b[1m Ai Message \u001b[0m==================================\n",
      "Tool Calls:\n",
      "  rag (1c17cf92-2661-4799-98f2-932224f18b6c)\n",
      " Call ID: 1c17cf92-2661-4799-98f2-932224f18b6c\n",
      "  Args:\n",
      "    query: FRANGO ESPECIAL preço\n",
      "  rag (247e77e0-cdfa-4f96-96cd-050ad490e1bf)\n",
      " Call ID: 247e77e0-cdfa-4f96-96cd-050ad490e1bf\n",
      "  Args:\n",
      "    query: refrigerante de 2 litros preço\n",
      "=================================\u001b[1m Tool Message \u001b[0m=================================\n",
      "Name: rag\n",
      "\n",
      "O preço do FRANGO ESPECIAL é R$ 22.\n",
      "=================================\u001b[1m Tool Message \u001b[0m=================================\n",
      "Name: rag\n",
      "\n",
      "O refrigerante de 2 litros custa R$ 9.\n",
      "==================================\u001b[1m Ai Message \u001b[0m==================================\n",
      "Tool Calls:\n",
      "  add (ef64dbbc-ffa3-44a9-9682-fc8f2e1a2c95)\n",
      " Call ID: ef64dbbc-ffa3-44a9-9682-fc8f2e1a2c95\n",
      "  Args:\n",
      "    a: 22.0\n",
      "    b: 9.0\n",
      "=================================\u001b[1m Tool Message \u001b[0m=================================\n",
      "Name: add\n",
      "\n",
      "31\n",
      "==================================\u001b[1m Ai Message \u001b[0m==================================\n",
      "\n",
      "O valor total do seu pedido (FRANGO ESPECIAL e refrigerante de 2 litros) é de R$ 31.\n"
     ]
    }
   ],
   "source": [
    "for m in messages['messages']:\n",
    "    m.pretty_print()"
   ]
  },
  {
   "cell_type": "code",
   "execution_count": 19,
   "id": "0bb2b6b1",
   "metadata": {},
   "outputs": [
    {
     "name": "stdout",
     "output_type": "stream",
     "text": [
      "================================\u001b[1m Human Message \u001b[0m=================================\n",
      "\n",
      "Quais os ingredientes do X-BACON?\n",
      "==================================\u001b[1m Ai Message \u001b[0m==================================\n",
      "Tool Calls:\n",
      "  rag (bdb4395f-8ddc-4e14-9d3e-87656d939dfa)\n",
      " Call ID: bdb4395f-8ddc-4e14-9d3e-87656d939dfa\n",
      "  Args:\n",
      "    query: X-BACON ingredientes\n",
      "=================================\u001b[1m Tool Message \u001b[0m=================================\n",
      "Name: rag\n",
      "\n",
      "The X-BACON includes lettuce, tomato, potato sticks, corn, hamburger, ham, mozzarella, and bacon.\n",
      "==================================\u001b[1m Ai Message \u001b[0m==================================\n",
      "\n",
      "O X-BACON inclui alface, tomate, batata palha, milho, hambúrguer, presunto, mussarela e bacon.\n"
     ]
    }
   ],
   "source": [
    "messages = [HumanMessage(content=\"Quais os ingredientes do X-BACON?\")]\n",
    "messages = react_graph.invoke({\"messages\": messages})\n",
    "for m in messages['messages']:\n",
    "    m.pretty_print()"
   ]
  },
  {
   "cell_type": "code",
   "execution_count": 20,
   "id": "43ba0c01",
   "metadata": {},
   "outputs": [
    {
     "name": "stdout",
     "output_type": "stream",
     "text": [
      "================================\u001b[1m Human Message \u001b[0m=================================\n",
      "\n",
      "Quem descobriu as Américas?\n",
      "==================================\u001b[1m Ai Message \u001b[0m==================================\n",
      "\n",
      "Não posso ajudar com essa pergunta. Minha função é responder apenas sobre o cardápio da lanchonete.\n"
     ]
    }
   ],
   "source": [
    "messages = [HumanMessage(content=\"Quem descobriu as Américas?\")]\n",
    "messages = react_graph.invoke({\"messages\": messages})\n",
    "for m in messages['messages']:\n",
    "    m.pretty_print()"
   ]
  }
 ],
 "metadata": {
  "kernelspec": {
   "display_name": ".venv",
   "language": "python",
   "name": "python3"
  },
  "language_info": {
   "codemirror_mode": {
    "name": "ipython",
    "version": 3
   },
   "file_extension": ".py",
   "mimetype": "text/x-python",
   "name": "python",
   "nbconvert_exporter": "python",
   "pygments_lexer": "ipython3",
   "version": "3.11.13"
  }
 },
 "nbformat": 4,
 "nbformat_minor": 5
}
