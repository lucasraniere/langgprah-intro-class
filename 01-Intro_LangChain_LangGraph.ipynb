{
  "cells": [
    {
      "cell_type": "markdown",
      "metadata": {
        "id": "_TzGT0p76hWu"
      },
      "source": [
        "## **Introdução de LangChain/LangGraph**\n",
        "\n",
        "*Framework* para a criação de agentes inteligentes.\n",
        "\n",
        "Instalação das bibliotecas necessárias."
      ]
    },
    {
      "cell_type": "code",
      "execution_count": null,
      "metadata": {},
      "outputs": [],
      "source": [
        "# !pip install -U -q langgraph langchain langchain-google-genai langchain_community"
      ]
    },
    {
      "cell_type": "markdown",
      "metadata": {},
      "source": [
        "*Imports* e *setup* de chaves de API.\n",
        "\n",
        "- Google Gemini API Key: https://aistudio.google.com/app/apikey?hl=pt-br"
      ]
    },
    {
      "cell_type": "code",
      "execution_count": 1,
      "metadata": {},
      "outputs": [],
      "source": [
        "import os, getpass\n",
        "from dotenv import load_dotenv\n",
        "load_dotenv()\n",
        "\n",
        "def _set_env(var: str):\n",
        "    if not os.environ.get(var):\n",
        "        os.environ[var] = getpass.getpass(f\"{var}: \")\n",
        "\n",
        "_set_env(\"GOOGLE_API_KEY\")"
      ]
    },
    {
      "cell_type": "markdown",
      "metadata": {
        "id": "waK7dPtI7Mwb"
      },
      "source": [
        "### **O grafo mais simples**\n",
        "\n",
        "Construindo um simples grafo com 4 nós e uma aresta condicional\n",
        "\n",
        "##### **State**\n",
        "\n",
        "A primeira coisa que se deve definir quando criando uma grafo é o *State* do grafo.\n",
        "\n",
        "O esquema do *state* serve como um esquema de *input* para todos os nós e arestas no grafo.\n",
        "\n",
        "O exemplo a seguir usa uma simples estrutura de dicionário com apenas um `graph_state` do tipo str."
      ]
    },
    {
      "cell_type": "code",
      "execution_count": 2,
      "metadata": {
        "id": "Qel0ZSZM71jE"
      },
      "outputs": [],
      "source": [
        "from typing import TypedDict\n",
        "\n",
        "# Dicionário com uma única chave \"graph_state\"\n",
        "class State(TypedDict):\n",
        "    graph_state: str"
      ]
    },
    {
      "cell_type": "code",
      "execution_count": 3,
      "metadata": {},
      "outputs": [
        {
          "data": {
            "text/plain": [
              "{'graph_state': 'Ola'}"
            ]
          },
          "execution_count": 3,
          "metadata": {},
          "output_type": "execute_result"
        }
      ],
      "source": [
        "state = State(graph_state=\"Ola\")\n",
        "state"
      ]
    },
    {
      "cell_type": "markdown",
      "metadata": {
        "id": "lce5jF1V8BZM"
      },
      "source": [
        "##### **Nós**\n",
        "\n",
        "De forma geral, nós são apenas funções em Python.\n",
        "\n",
        "O primeiro argumento da função é o *state*, como mostrado abaixo.\n",
        "\n",
        "Cada nó opera no *state*.\n",
        "\n",
        "Por padrão, cada nó irá também sobrescrever o valor anterior do *state*."
      ]
    },
    {
      "cell_type": "code",
      "execution_count": 4,
      "metadata": {
        "id": "aaHEZttA79ZH"
      },
      "outputs": [],
      "source": [
        "# Nós\n",
        "def node_1(state) -> str:\n",
        "    print(\"--- Nó 1 ---\")\n",
        "    return {\"graph_state\": state[\"graph_state\"] + \" Eu estou\"}\n",
        "\n",
        "\n",
        "def node_2(state) -> str:\n",
        "    print(\"--- Nó 2 ---\")\n",
        "    return {\"graph_state\": state[\"graph_state\"] + \" feliz!\"}\n",
        "\n",
        "\n",
        "def node_3(state) -> str:\n",
        "    print(\"--- Nó 3 ---\")\n",
        "    return {\"graph_state\": state[\"graph_state\"] + \" triste!\"}"
      ]
    },
    {
      "cell_type": "markdown",
      "metadata": {
        "id": "H1DmnEBY9EdN"
      },
      "source": [
        "##### **Arestas**\n",
        "\n",
        "Arestas conectam nós.\n",
        "\n",
        "- **Arestas normais** são usadas se você quiser sempre ir, por exemplo, do `node_1`para o `node_2`;\n",
        "- **Arestas condicionais** são usadas quando você quiser uma rota opcional entre nós.\n",
        "\n",
        "A aresta condicional é implementada como uma função que retorna o próximo nó a ser visitado baseando-se em algum lógica."
      ]
    },
    {
      "cell_type": "code",
      "execution_count": 6,
      "metadata": {
        "id": "rn8MyTMi8m_w"
      },
      "outputs": [],
      "source": [
        "import random\n",
        "from typing import Literal\n",
        "\n",
        "def decide_mood(state) -> Literal[\"node_2\", \"node_3\"]:\n",
        "    # O estado é frequentemente utilizado para decidir o próximo nó\n",
        "    user_input = state['graph_state']\n",
        "\n",
        "    # Aqui, um 50/50 irá decidir entre nós 2 e 3\n",
        "    if random.random() < .5:\n",
        "        # 50% das vezes irá retornar Nó 2\n",
        "        return \"node_2\"\n",
        "    # 50% das vezes irá retornar Nó 3\n",
        "    return \"node_3\""
      ]
    },
    {
      "cell_type": "markdown",
      "metadata": {
        "id": "eppO6EUJ-6tb"
      },
      "source": [
        "##### **Construção do Grafo**\n",
        "\n",
        "O grafo é construído a partir dos nossos componentes.\n",
        "\n",
        "O *__StateGraph__* é a principal classe de grafos no LangGraph.\n",
        "\n",
        "Primeiro, se deve inicializar um *StateGraph* com a classe de `State` definida anteriormente.\n",
        "\n",
        "Então, se deve adicionar os nós e arestas.\n",
        "\n",
        "Se utiliza o nó `START` para indicar o início de nosso grafo. É um nó especial que envia a mensagem do usuário (*input*) para o grafo.\n",
        "\n",
        "O nó `END` é o nó especial que representa o término do grafo.\n",
        "\n",
        "Compilar o grafo executa algumas checagens básicas sobre a estrutura do seu grafo (sem nós órfãos, etc).\n",
        "\n",
        "Também é possível visualizar o grafo como um diagrama Mermaid."
      ]
    },
    {
      "cell_type": "code",
      "execution_count": 7,
      "metadata": {
        "colab": {
          "base_uri": "https://localhost:8080/",
          "height": 350
        },
        "id": "lFoNJPH8-vW8",
        "outputId": "039f8596-bcdc-4d85-ce94-f6b29888a15c"
      },
      "outputs": [
        {
          "data": {
            "image/png": "[encoded data removed]",
            "text/plain": [
              "<IPython.core.display.Image object>"
            ]
          },
          "metadata": {},
          "output_type": "display_data"
        }
      ],
      "source": [
        "from IPython.display import Image, display\n",
        "from langgraph.graph import StateGraph, START, END\n",
        "\n",
        "# Construindo o grafo\n",
        "builder = StateGraph(State)\n",
        "builder.add_node(\"node_1\", node_1)\n",
        "builder.add_node(\"node_2\", node_2)\n",
        "builder.add_node(\"node_3\", node_3)\n",
        "\n",
        "# Lógica do grafo\n",
        "builder.add_edge(START, \"node_1\")\n",
        "builder.add_conditional_edges(\"node_1\", decide_mood)\n",
        "builder.add_edge(\"node_2\", END)\n",
        "builder.add_edge(\"node_3\", END)\n",
        "\n",
        "# Compilação\n",
        "graph = builder.compile()\n",
        "\n",
        "# Visualização\n",
        "display(Image(graph.get_graph().draw_mermaid_png()))"
      ]
    },
    {
      "cell_type": "markdown",
      "metadata": {
        "id": "CV_bZxogCE5o"
      },
      "source": [
        "##### **Invocação**\n",
        "\n",
        "O grafo compilado implementa um protocolo executável.\n",
        "\n",
        "Isso fornece um modo padrão para executar os componentes do LangChain.\n",
        "\n",
        "`invoke` é um dos métodos padrões do framework.\n",
        "\n",
        "O dicionário de *input* `{\"graph_state\": \"Olá, sou um participante da Oficina de LangGraph.\"}` define o valor inicial para o *state* do grafo.\n",
        "\n",
        "Quando `invoke` é chamado, o grafo inicia a execução a partir do nó `START`.\n",
        "\n",
        "Então o fluxo progride através dos nós definidos (`node_1`, `node_2`, `node_3`), em ordem.\n",
        "\n",
        "O nó condicional irá direcionar do nó `1` para o nó `2` ou `3` usando uma regra de probabilidade de 50%.\n",
        "\n",
        "Cada função de nó recebe o `state` atual e sobrescreve ele.\n",
        "\n",
        "A execução continua ate chegar ao nó `END`."
      ]
    },
    {
      "cell_type": "code",
      "execution_count": 16,
      "metadata": {
        "colab": {
          "base_uri": "https://localhost:8080/"
        },
        "id": "jxrn1M_HA5Xy",
        "outputId": "47db82ba-9e34-4ac0-89a3-011d5f9d3a78"
      },
      "outputs": [
        {
          "name": "stdout",
          "output_type": "stream",
          "text": [
            "--- Nó 1 ---\n",
            "--- Nó 2 ---\n"
          ]
        },
        {
          "data": {
            "text/plain": [
              "{'graph_state': 'Olá, sou um participante da Oficina de LangGraph. Eu estou feliz!'}"
            ]
          },
          "execution_count": 16,
          "metadata": {},
          "output_type": "execute_result"
        }
      ],
      "source": [
        "graph.invoke({\"graph_state\": \"Olá, sou um participante da Oficina de LangGraph.\"})"
      ]
    },
    {
      "cell_type": "markdown",
      "metadata": {
        "id": "ynXXJeXNFDKF"
      },
      "source": [
        "`invoke` executa todo o grafo de forma sícrona, esperando cada passo ser completo antes de ir para o próximo.\n",
        "\n",
        "Isso retorna o *state* final do grafo após todos os nós serem executados.\n",
        "\n",
        "Neste caso, o *state* retorna após o nó 3 ser completo."
      ]
    },
    {
      "cell_type": "markdown",
      "metadata": {
        "id": "jRBxy5U9JTwc"
      },
      "source": [
        "### **Chain**\n",
        "\n",
        "Construir uma *chain* simples combina 4 conceitos básicos:\n",
        "\n",
        "- Uso de mensagens de chat no grafo;\n",
        "- Uso de modelos de chat;\n",
        "- Atribuir ferramentas à LLMs;\n",
        "- Executar chamadas de ferramentas nos grafos.\n",
        "\n",
        "##### **Messages**\n",
        "\n",
        "[Modelos de chat](https://python.langchain.com/docs/integrations/chat/) podem usar `messages`, que capturam diferentes papeis em uma conversa.\n",
        "\n",
        "LangChain suporta diversos tipos de menssagens, incluindo `HumanMessage`, `AIMessage`, `SystemMessage`, e `ToolMessage`.\n",
        "\n",
        "Cada mensagem pode ser fornecida com:\n",
        "\n",
        "- `content` - conteúdo da mensagem;\n",
        "- `name` - nome de quem está criando a mensagem (opcional);\n",
        "- `response_metadata`- um dicionário de metadados específico para cada modelo (opcional)."
      ]
    },
    {
      "cell_type": "code",
      "execution_count": 17,
      "metadata": {
        "colab": {
          "base_uri": "https://localhost:8080/"
        },
        "id": "EicI2GrXEx06",
        "outputId": "3bb03cd8-cc02-486f-88a8-2301c1b03c7a"
      },
      "outputs": [
        {
          "name": "stdout",
          "output_type": "stream",
          "text": [
            "==================================\u001b[1m Ai Message \u001b[0m==================================\n",
            "Name: Model\n",
            "\n",
            "Então você está pesquisando lugares para passar as férias?\n",
            "================================\u001b[1m Human Message \u001b[0m=================================\n",
            "Name: Lucas\n",
            "\n",
            "Sim. Corretamente\n",
            "==================================\u001b[1m Ai Message \u001b[0m==================================\n",
            "Name: Model\n",
            "\n",
            "Ótimo, o que você gostaria de saber?\n",
            "================================\u001b[1m Human Message \u001b[0m=================================\n",
            "Name: Lance\n",
            "\n",
            "Eu quero saber quais os melhores bares de Pipa.\n"
          ]
        }
      ],
      "source": [
        "from pprint import pprint\n",
        "from langchain_core.messages import AIMessage, HumanMessage, SystemMessage\n",
        "\n",
        "messages = [AIMessage(content='Então você está pesquisando lugares para passar as férias?', name='Model')]\n",
        "messages.extend([HumanMessage(content=\"Sim. Corretamente\", name='Lucas')])\n",
        "messages.extend([AIMessage(content='Ótimo, o que você gostaria de saber?', name='Model')])\n",
        "messages.extend([HumanMessage(content='Eu quero saber quais os melhores bares de Pipa.', name='Lance')])\n",
        "\n",
        "for m in messages:\n",
        "    m.pretty_print()"
      ]
    },
    {
      "cell_type": "markdown",
      "metadata": {
        "id": "52ALnbHxMiRh"
      },
      "source": [
        "##### **Modelos de Chat**\n",
        "\n",
        "Os modelos podem usar uma sequência de mensagens como *input* e executar papéis presentes nas mensagens."
      ]
    },
    {
      "cell_type": "code",
      "execution_count": 18,
      "metadata": {
        "colab": {
          "base_uri": "https://localhost:8080/",
          "height": 185
        },
        "id": "Mmb5jNBFMdku",
        "outputId": "2f18402f-2f51-4a82-e8c0-154175dbcea2"
      },
      "outputs": [
        {
          "data": {
            "text/plain": [
              "langchain_core.messages.ai.AIMessage"
            ]
          },
          "execution_count": 18,
          "metadata": {},
          "output_type": "execute_result"
        }
      ],
      "source": [
        "from langchain_google_genai import ChatGoogleGenerativeAI\n",
        "\n",
        "llm = ChatGoogleGenerativeAI(model=\"gemini-2.5-flash\", temperature=0)\n",
        "result = llm.invoke(messages)\n",
        "type(result)"
      ]
    },
    {
      "cell_type": "code",
      "execution_count": 19,
      "metadata": {
        "colab": {
          "base_uri": "https://localhost:8080/"
        },
        "id": "MRiBeILuM49r",
        "outputId": "066b16be-637a-405e-e006-5ba9f71f2717"
      },
      "outputs": [
        {
          "name": "stdout",
          "output_type": "stream",
          "text": [
            "==================================\u001b[1m Ai Message \u001b[0m==================================\n",
            "\n",
            "Pipa tem uma vida noturna super agitada e bares para todos os gostos! Para te ajudar a escolher os \"melhores\", vou listar alguns que se destacam em diferentes categorias. Lembre-se que \"melhor\" é subjetivo, mas esses são consistentemente bem avaliados:\n",
            "\n",
            "**Para Dançar e Curtir a Noite (Música ao Vivo e DJs):**\n",
            "\n",
            "1.  **Calangos Bar:** Um clássico de Pipa! Famoso pelo forró pé de serra ao vivo, é o lugar perfeito para quem quer dançar e sentir a energia local. A pista fica cheia e a atmosfera é contagiante.\n",
            "2.  **Tribus Bar:** Outro ponto de encontro tradicional, o Tribus costuma ter bandas de rock, reggae e MPB ao vivo. É um bar com uma vibe mais descontraída e ótima para quem gosta de música boa e um ambiente animado.\n",
            "3.  **Área Restrita:** Se você busca algo mais eletrônico e para ir até mais tarde, o Área Restrita é uma ótima pedida. Com DJs e um ambiente mais de balada, é ideal para quem quer dançar sem parar.\n",
            "\n",
            "**Para Drinks Autorais e Ambiente Mais Sofisticado:**\n",
            "\n",
            "4.  **Orishas Bar:** Conhecido por seus coquetéis criativos e bem elaborados, o Orishas oferece uma experiência mais \"gourmet\" em termos de bebidas. O ambiente é charmoso e ideal para um papo mais tranquilo.\n",
            "5.  **Lajedo Restaurante & Bar:** Embora seja um restaurante, o Lajedo tem um bar excelente com uma vista espetacular do mar. É perfeito para um drink ao pôr do sol ou para uma noite mais elegante, com opções de coquetéis clássicos e autorais.\n",
            "\n",
            "**Para o Pôr do Sol e Vistas Incríveis:**\n",
            "\n",
            "6.  **Mirante Sunset Bar:** O nome já diz tudo! Localizado em um ponto alto, oferece uma das vistas mais deslumbrantes para o pôr do sol em Pipa. É o lugar ideal para relaxar, tomar um drink e tirar fotos incríveis. Chegue cedo para pegar um bom lugar.\n",
            "7.  **Pipa Beach Club:** Embora seja um clube de praia, funciona como um bar excelente durante o dia e no final da tarde. Com espreguiçadeiras, piscina e acesso à praia, é perfeito para drinks refrescantes com os pés na areia ou à beira da piscina, com uma vista linda.\n",
            "\n",
            "**Para um Ambiente Mais Descontraído e Local:**\n",
            "\n",
            "8.  **Caxangá Bar:** Um bar mais simples e autêntico, que muitas vezes tem música ao vivo (forró, samba) e um público mais misto, incluindo moradores locais. É uma boa opção para sentir um pouco mais da cultura de Pipa.\n",
            "\n",
            "**Dicas Extras:**\n",
            "\n",
            "*   **Rua Principal:** A maioria dos bares mais famosos e movimentados está concentrada na Rua Principal e suas transversais. Caminhe por lá e deixe-se levar pela música que te agradar!\n",
            "*   **Verifique a Programação:** Muitos bares têm programação de música ao vivo que muda diariamente. Vale a pena dar uma olhada nas redes sociais ou nos cartazes na rua.\n",
            "*   **Chegue Cedo:** Em alta temporada, os bares mais populares podem lotar rapidamente, especialmente para o pôr do sol.\n",
            "\n",
            "Espero que essa lista te ajude a aproveitar ao máximo a vida noturna de Pipa! Qual tipo de bar te interessa mais?\n"
          ]
        }
      ],
      "source": [
        "result.pretty_print()"
      ]
    },
    {
      "cell_type": "markdown",
      "metadata": {
        "id": "E2VxMdSXT32X"
      },
      "source": [
        "##### **Tools**\n",
        "\n",
        "Ferramentas são necessárias sempre que você quer que um modelo controle partes de código ou chamar APIs e funções externas.\n",
        "\n",
        "Diversos LLMs oferecem suporte para chamdas de ferramentas.\n",
        "\n",
        "A interface de chamada de ferramentas no LangChain é simples.\n",
        "\n",
        "Você apenas precisa passar qualquer função Python para o `ChatModel.bind_tools()`."
      ]
    },
    {
      "cell_type": "code",
      "execution_count": 21,
      "metadata": {
        "id": "Jpp-UDXHRro4"
      },
      "outputs": [],
      "source": [
        "def multiply(a:int, b:int) -> int:\n",
        "    \"\"\"Multiply a and b.\n",
        "    Args:\n",
        "        a: first int\n",
        "        b: second int\n",
        "    \"\"\"\n",
        "    return a * b\n",
        "\n",
        "llm_with_tools = llm.bind_tools([multiply])"
      ]
    },
    {
      "cell_type": "code",
      "execution_count": 22,
      "metadata": {
        "colab": {
          "base_uri": "https://localhost:8080/"
        },
        "id": "cRKMH0Q1VoOc",
        "outputId": "ba423051-23a4-48b0-c039-b155796ca132"
      },
      "outputs": [
        {
          "data": {
            "text/plain": [
              "AIMessage(content='', additional_kwargs={'function_call': {'name': 'multiply', 'arguments': '{\"b\": 3.0, \"a\": 2.0}'}}, response_metadata={'prompt_feedback': {'block_reason': 0, 'safety_ratings': []}, 'finish_reason': 'STOP', 'model_name': 'gemini-2.5-flash', 'safety_ratings': []}, id='run--99dba08c-7fbb-49ea-9e2b-446003c3a36c-0', tool_calls=[{'name': 'multiply', 'args': {'b': 3.0, 'a': 2.0}, 'id': '6c4a9923-d37e-47b7-b42e-34a04949f907', 'type': 'tool_call'}], usage_metadata={'input_tokens': 71, 'output_tokens': 87, 'total_tokens': 158, 'input_token_details': {'cache_read': 0}, 'output_token_details': {'reasoning': 69}})"
            ]
          },
          "execution_count": 22,
          "metadata": {},
          "output_type": "execute_result"
        }
      ],
      "source": [
        "tool_call = llm_with_tools.invoke([HumanMessage(content=\"Quanto é 2 multiplicado por 3\", name=\"Lucas\")])\n",
        "tool_call"
      ]
    },
    {
      "cell_type": "markdown",
      "metadata": {
        "id": "cuDsAYxuHVAj"
      },
      "source": [
        "##### **Utilizando mensagens como states**\n",
        "\n",
        "Com esses fundamentos, agora já podemos utilizar `messages` no nosso grafo de states.\n",
        "\n",
        "Vamos definir nossso state `MessageState` como um `TypedDict` com apenas uma chave: `messages`.\n",
        "\n",
        "`messages` é apenas uma lista de `AnyMessages` (lista de mensagens)."
      ]
    },
    {
      "cell_type": "code",
      "execution_count": 24,
      "metadata": {
        "id": "C1C68QOMGgqY"
      },
      "outputs": [],
      "source": [
        "from typing import TypedDict\n",
        "from langchain_core.messages import AnyMessage\n",
        "\n",
        "class MessagesState(TypedDict):\n",
        "    messages: list[AnyMessage]"
      ]
    },
    {
      "cell_type": "markdown",
      "metadata": {
        "id": "myMwgTNvJg6Y"
      },
      "source": [
        "##### **Reducers**\n",
        "\n",
        "Agora temos um pequeno problema.\n",
        "\n",
        "Enquanto o grafo é executado, nós queremos anexar nossas mensagens à nossa chave de state `messages`.\n",
        "\n",
        "Mas cada nó irá sobresecrever o valor do state anterior.\n",
        "\n",
        "[**Reducer functions**](https://langchain-ai.github.io/langgraph/concepts/low_level/#reducers) resolvem isso.\n",
        "\n",
        "Elas nos permitem especificar como a atualização do state é executada.\n",
        "\n",
        "Caso nenhuma função de reducer é definida, é assumido que todos os updates da chave devem *sobrescrever* o valor anterior.\n",
        "\n",
        "Já que queremos anexar mensagens, podemos usar o reducer pré-construído `add_messages`!\n",
        "\n",
        "\n",
        "Isso garante que as atualizações de state enviadas para o grafo sejam anexadas em uma lista existente de mensagens.\n",
        "\n",
        "\n",
        "Nós anotamos (via `Annotated`) nossa chave com uma função de reducer como metadata."
      ]
    },
    {
      "cell_type": "code",
      "execution_count": 25,
      "metadata": {
        "id": "uYeb2HUFJAMw"
      },
      "outputs": [],
      "source": [
        "from typing import Annotated\n",
        "from langchain_core.messages import AnyMessage\n",
        "from langgraph.graph.message import add_messages\n",
        "\n",
        "class MessagesState(TypedDict):\n",
        "    messages: Annotated[list[AnyMessage], add_messages]"
      ]
    },
    {
      "cell_type": "markdown",
      "metadata": {
        "id": "X-eeVUvQNHuQ"
      },
      "source": [
        "Já que ter uma lista de mensagens como state é tão comum, LangGraph tem um `MessagesState` pré-construído!\n",
        "\n",
        "`MessagesState` é definido:\n",
        "\n",
        "* Com uma única chave `messages` pré-construída\n",
        "* Que é uma lista de objetos `AnyMessage` e utiliza o reducer `add_messages`"
      ]
    },
    {
      "cell_type": "code",
      "execution_count": 26,
      "metadata": {
        "id": "rLlIJVSPNHda"
      },
      "outputs": [],
      "source": [
        "from langgraph.graph import MessagesState\n",
        "\n",
        "class State(MessagesState):\n",
        "    # Adicione qualquer chave necessária além de messages\n",
        "    pass"
      ]
    },
    {
      "cell_type": "markdown",
      "metadata": {
        "id": "li10gBBzY7kx"
      },
      "source": [
        "O `MessagesState` e `State` funcionam de forma equivalente!\n",
        "\n",
        "Para ir mais a fundo, nós podemos ver como o reducer `add_messages` funciona de forma isolada."
      ]
    },
    {
      "cell_type": "code",
      "execution_count": 27,
      "metadata": {
        "colab": {
          "base_uri": "https://localhost:8080/"
        },
        "id": "Tt5MJgqdMwnU",
        "outputId": "5b82e05c-74d4-4589-990c-5e4aff89508d"
      },
      "outputs": [
        {
          "data": {
            "text/plain": [
              "[AIMessage(content='Olá! Como posso te ajudar?', additional_kwargs={}, response_metadata={}, name='Model', id='387bbb02-402f-4046-829a-a775f190a6e1'),\n",
              " HumanMessage(content='Estou procurando dicas de viagens.', additional_kwargs={}, response_metadata={}, name='Lucas', id='7c61e0d3-304d-4d23-acd4-29f3cd7c2d62'),\n",
              " AIMessage(content='Claro, posso te ajudar com isso! Para onde em específico você quer ir?', additional_kwargs={}, response_metadata={}, name='Model', id='2b59ee9c-a6d9-4acf-8ec7-3b6ff796e5f9')]"
            ]
          },
          "execution_count": 27,
          "metadata": {},
          "output_type": "execute_result"
        }
      ],
      "source": [
        "# State inicial\n",
        "initial_messages = [AIMessage(content='Olá! Como posso te ajudar?', name='Model'),\n",
        "                    HumanMessage(content=\"Estou procurando dicas de viagens.\", name='Lucas')]\n",
        "\n",
        "# Nova mensagem para adicionar\n",
        "new_message = AIMessage(content='Claro, posso te ajudar com isso! Para onde em específico você quer ir?', name='Model')\n",
        "\n",
        "# Teste\n",
        "add_messages(initial_messages, new_message)"
      ]
    },
    {
      "cell_type": "markdown",
      "metadata": {
        "id": "xMuROagAaA-_"
      },
      "source": [
        "##### **Nosso grafo**\n",
        "\n",
        "Agora, vamos usar `MessagesState` com um grafo"
      ]
    },
    {
      "cell_type": "code",
      "execution_count": 29,
      "metadata": {
        "colab": {
          "base_uri": "https://localhost:8080/",
          "height": 251
        },
        "id": "giygxbZuao0s",
        "outputId": "a5157236-f756-4c53-fd6a-bfd4bd2a5989"
      },
      "outputs": [
        {
          "data": {
            "image/png": "[encoded data removed]",
            "text/plain": [
              "<IPython.core.display.Image object>"
            ]
          },
          "metadata": {},
          "output_type": "display_data"
        }
      ],
      "source": [
        "from IPython.display import Image, display\n",
        "from langgraph.graph import StateGraph, START, END\n",
        "\n",
        "# state\n",
        "class MessagesState(MessagesState):\n",
        "    pass\n",
        "\n",
        "# nó\n",
        "def tool_calling_llm(state: MessagesState):\n",
        "    return {\"messages\": [llm_with_tools.invoke(state['messages'])]}\n",
        "\n",
        "# construção do grafo\n",
        "builder = StateGraph(MessagesState)\n",
        "builder.add_node(\"tool_calling_llm\", tool_calling_llm)\n",
        "builder.add_edge(START, \"tool_calling_llm\")\n",
        "builder.add_edge(\"tool_calling_llm\", END)\n",
        "graph = builder.compile()\n",
        "\n",
        "# visualização\n",
        "display(Image(graph.get_graph().draw_mermaid_png()))\n"
      ]
    },
    {
      "cell_type": "markdown",
      "metadata": {
        "id": "IzPEdKNmbO21"
      },
      "source": [
        "Aqui, a LLM responde normalmente sem nenhuma chamada de ferramenta."
      ]
    },
    {
      "cell_type": "code",
      "execution_count": 30,
      "metadata": {
        "colab": {
          "base_uri": "https://localhost:8080/"
        },
        "id": "vgMwZgKta8eM",
        "outputId": "bf924656-cba2-4f2b-a8e2-ba37cd1845f9"
      },
      "outputs": [
        {
          "data": {
            "text/plain": [
              "{'messages': [HumanMessage(content='Olá Gemini!', additional_kwargs={}, response_metadata={}, id='f5994eec-7604-4265-8c82-c7cc663919c2'),\n",
              "  AIMessage(content='Olá! Como posso ajudar você hoje?', additional_kwargs={}, response_metadata={'prompt_feedback': {'block_reason': 0, 'safety_ratings': []}, 'finish_reason': 'STOP', 'model_name': 'gemini-2.5-flash', 'safety_ratings': []}, id='run--5d7cc6ba-80b3-4969-9700-17fcc6f174b3-0', usage_metadata={'input_tokens': 66, 'output_tokens': 8, 'total_tokens': 74, 'input_token_details': {'cache_read': 0}})]}"
            ]
          },
          "execution_count": 30,
          "metadata": {},
          "output_type": "execute_result"
        }
      ],
      "source": [
        "messages = graph.invoke({\"messages\": HumanMessage(content=\"Olá Gemini!\")})\n",
        "messages"
      ]
    },
    {
      "cell_type": "markdown",
      "metadata": {
        "id": "_bNQjmYqCNGa"
      },
      "source": [
        "Aqui, ela percebe a solicitação e envia para o nó de ferramenta."
      ]
    },
    {
      "cell_type": "code",
      "execution_count": 31,
      "metadata": {
        "colab": {
          "base_uri": "https://localhost:8080/"
        },
        "id": "4unGAmBAbevR",
        "outputId": "9666515e-03ef-4b28-9579-5f324101d3e5"
      },
      "outputs": [
        {
          "name": "stdout",
          "output_type": "stream",
          "text": [
            "================================\u001b[1m Human Message \u001b[0m=================================\n",
            "\n",
            "Multiplique 2 e 3!\n",
            "==================================\u001b[1m Ai Message \u001b[0m==================================\n",
            "Tool Calls:\n",
            "  multiply (93e6342f-7dc4-4ca2-9fbd-d1e0adf6905e)\n",
            " Call ID: 93e6342f-7dc4-4ca2-9fbd-d1e0adf6905e\n",
            "  Args:\n",
            "    b: 3.0\n",
            "    a: 2.0\n"
          ]
        }
      ],
      "source": [
        "messages = graph.invoke({\"messages\": HumanMessage(content=\"Multiplique 2 e 3!\")})\n",
        "for m in messages['messages']:\n",
        "    m.pretty_print()"
      ]
    },
    {
      "cell_type": "markdown",
      "metadata": {
        "id": "EuxbCE9Ob-pr"
      },
      "source": [
        "### **Router**\n",
        "\n",
        "##### **Objetivos**\n",
        "\n",
        "Podemos pensar nisso como um \"roteador\", onde o modelo de chat roteia entre uma resposta direta ou uma chamada de ferramenta baseando-se na entrada do usuário.\n",
        "\n",
        "Vamos estender nosso grafo para trabalhar com ambas outputs!\n",
        "\n",
        "Para isso, nós podemos usar duas ideias:\n",
        "\n",
        "1. Adicionar um nó que irá chamar nossa ferramenta.\n",
        "2. Adicionar uma aresta condicional que irá olhar o output do modelo e direcionar para a nosso nó de ferramenta ou simplesmente finalizar caso nenhuma ferramenta for solicitada.\n",
        "\n",
        "Nós usaremos o nó **pré-construído** `ToolNode` e simplesmente passar uma lista das nossas ferramentas para inicializá-lo.\n",
        "\n",
        "Também usaremos a aresta condicional **pré-construída** `tools_condition`."
      ]
    },
    {
      "cell_type": "markdown",
      "metadata": {
        "id": "tsJRRvgFRugw"
      },
      "source": [
        "![LangGraph.png](data:image/png;base64,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)"
      ]
    },
    {
      "cell_type": "code",
      "execution_count": 33,
      "metadata": {
        "colab": {
          "base_uri": "https://localhost:8080/",
          "height": 350
        },
        "id": "4L1hGd4vbrFo",
        "outputId": "f13d5796-ac22-4b58-8c21-42835ee1c960"
      },
      "outputs": [
        {
          "data": {
            "image/png": "[encoded data removed]",
            "text/plain": [
              "<IPython.core.display.Image object>"
            ]
          },
          "metadata": {},
          "output_type": "display_data"
        }
      ],
      "source": [
        "from IPython.display import Image, display\n",
        "from langgraph.graph import StateGraph, START, END\n",
        "from langgraph.graph import MessagesState\n",
        "from langgraph.prebuilt import ToolNode\n",
        "from langgraph.prebuilt import tools_condition\n",
        "\n",
        "# Nó\n",
        "def tool_calling_llm(state: MessagesState):\n",
        "    return {\"messages\": [llm_with_tools.invoke(state[\"messages\"])]}\n",
        "\n",
        "# Construir o grafo\n",
        "builder = StateGraph(MessagesState)\n",
        "builder.add_node(\"tool_calling_llm\", tool_calling_llm)\n",
        "builder.add_node(\"tools\", ToolNode([multiply]))\n",
        "builder.add_edge(START, \"tool_calling_llm\")\n",
        "builder.add_conditional_edges(\n",
        "    \"tool_calling_llm\",\n",
        "    # Se a ultima messanges (result) do assistente é uma cahamada de ferramenta -> tools_condition direciona para tools\n",
        "    # Se a ultima mensagem (result) do assistente é não é uma chamada de ferramenta -> tools_condition direciona para o EN\n",
        "    tools_condition,\n",
        ")\n",
        "\n",
        "builder.add_edge(\"tools\", END)\n",
        "graph = builder.compile()\n",
        "\n",
        "# View\n",
        "display(Image(graph.get_graph().draw_mermaid_png()))"
      ]
    },
    {
      "cell_type": "code",
      "execution_count": 34,
      "metadata": {
        "colab": {
          "base_uri": "https://localhost:8080/"
        },
        "id": "QLqVElaXiz3N",
        "outputId": "fd3fbdb6-40f4-4887-a519-b8164bc2d145"
      },
      "outputs": [
        {
          "name": "stdout",
          "output_type": "stream",
          "text": [
            "================================\u001b[1m Human Message \u001b[0m=================================\n",
            "\n",
            "Quanto é 3 vezes 4?\n",
            "==================================\u001b[1m Ai Message \u001b[0m==================================\n",
            "Tool Calls:\n",
            "  multiply (e1bb0195-30cd-48c7-a189-d6d259df4e61)\n",
            " Call ID: e1bb0195-30cd-48c7-a189-d6d259df4e61\n",
            "  Args:\n",
            "    b: 4.0\n",
            "    a: 3.0\n",
            "=================================\u001b[1m Tool Message \u001b[0m=================================\n",
            "Name: multiply\n",
            "\n",
            "12\n"
          ]
        }
      ],
      "source": [
        "from langchain_core.messages import HumanMessage\n",
        "from pprint import pprint\n",
        "\n",
        "messages = [HumanMessage(content=\"Quanto é 3 vezes 4?\")]\n",
        "messages = graph.invoke({\"messages\": messages})\n",
        "\n",
        "for m in messages['messages']:\n",
        "    m.pretty_print()"
      ]
    },
    {
      "cell_type": "markdown",
      "metadata": {
        "id": "tmoXj4cSkZ8D"
      },
      "source": [
        "Agora, podemos ver que o grafo executa a ferramenta.\n",
        "\n",
        "Ele responde com uma `ToolMessage`."
      ]
    },
    {
      "cell_type": "markdown",
      "metadata": {
        "id": "1BWvDo7bkl6A"
      },
      "source": [
        "### **Agente ReAct**\n",
        "\n",
        "##### **Objetivo**\n",
        "\n",
        "Agora, podemos estender esse grafo em arquitetura genérica de agentes.\n",
        "\n",
        "No router anterior, nós invocamos o modelo e, caso ele escolhesse chamar uma ferramenta, retornaríamos uma `ToolMessage` para o usuário.\n",
        "\n",
        "Mas, e se nós passarmos essa `ToolMessage` de volta para o modelo?\n",
        "\n",
        "Nós podemos (1) chamar outra ferramenta ou (2) responder diretamente ao usuário.\n",
        "\n",
        "Essa é a intuição por trás do *ReAct*, uma arquitetura geral de agentes,\n",
        "\n",
        "* `act` - deixar o modelo chamar por ferramentas específicas\n",
        "* `observe` - passar a resposta da ferramenta de volta ao modelo\n",
        "* `reason` - deixar o modelo ponderar sobre o output da ferramenta e decidir o que fazer depois\n",
        "\n",
        "Essa *arquitetura de uso geral* pode ser aplicada em diversas ferramentas."
      ]
    },
    {
      "cell_type": "code",
      "execution_count": 35,
      "metadata": {
        "id": "gSnBarBljdjq"
      },
      "outputs": [],
      "source": [
        "def multiply(a: int, b: int) -> int:\n",
        "    \"\"\"Multiply a and b.\n",
        "\n",
        "    Args:\n",
        "        a (int): First number.\n",
        "        b (int): Second number.\n",
        "    \"\"\"\n",
        "    return a * b\n",
        "\n",
        "\n",
        "def add(a: int, b: int) -> int:\n",
        "    \"\"\"Add a and b.\n",
        "\n",
        "    Args:\n",
        "        a (int): First number.\n",
        "        b (int): Second number.\n",
        "    \"\"\"\n",
        "    return a + b\n",
        "\n",
        "\n",
        "def divide(a: int, b: int) -> float:\n",
        "    \"\"\"Divide a and b.\n",
        "\n",
        "    Args:\n",
        "        a (int): First number.\n",
        "        b (int): Second number.\n",
        "    \"\"\"\n",
        "    return a / b\n",
        "\n",
        "tools = [add, multiply, divide]\n",
        "llm = ChatGoogleGenerativeAI(model='gemini-2.0-flash')\n",
        "llm_with_tools = llm.bind_tools(tools)"
      ]
    },
    {
      "cell_type": "code",
      "execution_count": 36,
      "metadata": {
        "id": "GMsYqyB9y3xI"
      },
      "outputs": [],
      "source": [
        "from langgraph.graph import MessagesState\n",
        "from langchain_core.messages import HumanMessage, SystemMessage\n",
        "\n",
        "# Mensagem de sistema\n",
        "sys_msg = SystemMessage(content='Você é um ajudante útil encarregado em fazer aritméticas em um conjunto de inputs.')\n",
        "\n",
        "# Nó\n",
        "def assistant(state: MessagesState):\n",
        "    return {\"messages\": [llm_with_tools.invoke([sys_msg] + state[\"messages\"])]}"
      ]
    },
    {
      "cell_type": "markdown",
      "metadata": {
        "id": "f8RFtTKTxkUW"
      },
      "source": [
        "Assim como antes, nós usamos `MessagesState` and definimos um nó `Tool` com nossa lista de ferramentas.\n",
        "\n",
        "O nó `Assistant` é apenas nosso modelo com ferramentas vinculadas.\n",
        "\n",
        "Criamos um grafo com nós `Assistant` e `Tools`.\n",
        "\n",
        "Adicionamos a aresta `tools_condition`, que direciona para `Tools` ou `END` dependendo se o `Assistant` chama uma ferramenta.\n",
        "\n",
        "Agora, adicionaremos um novo passo:\n",
        "\n",
        "Conectar o nó `Tools` *de volta* ao `Assistant`, criando um loop.\n",
        "\n",
        "- Depois que o nó `Assistant` executa, `tools_condition` checa se a resposta do modelo é uma chamada de ferramenta\n",
        "- Se for, o fluxo é direcionado para o nó `tools`\n",
        "- O nó `Tools` se conecta de volta ao `Assistant`\n",
        "- Esse loop continua enquanto o modelo decide chamar uma ferramenta\n",
        "- Caso a resposta do modelo não seja uma chamada de ferramenta, o fluxo é direcionado ao `END`, finalizando o processo."
      ]
    },
    {
      "cell_type": "code",
      "execution_count": 38,
      "metadata": {
        "colab": {
          "base_uri": "https://localhost:8080/",
          "height": 266
        },
        "id": "R9cXyMwTwrIs",
        "outputId": "87fda552-f87e-4544-ff2b-950637f9147d"
      },
      "outputs": [
        {
          "data": {
            "image/png": "[encoded data removed]",
            "text/plain": [
              "<IPython.core.display.Image object>"
            ]
          },
          "metadata": {},
          "output_type": "display_data"
        }
      ],
      "source": [
        "from langgraph.graph import START, StateGraph\n",
        "from langgraph.prebuilt import tools_condition\n",
        "from langgraph.prebuilt import ToolNode\n",
        "from IPython.display import Image, display\n",
        "\n",
        "# Grafo\n",
        "builder = StateGraph(MessagesState)\n",
        "\n",
        "# Definição de nós\n",
        "builder.add_node(\"assistant\", assistant)\n",
        "builder.add_node(\"tools\", ToolNode(tools))\n",
        "\n",
        "# Definição de arestas\n",
        "builder.add_edge(START, \"assistant\")\n",
        "builder.add_conditional_edges(\n",
        "    \"assistant\",\n",
        "    # if the latest message (result) from assistant is a tool call -> tools_condition routes to tools\n",
        "    # if the latest message (result) from assistant is not a tool call -> tools_condition routes to end\n",
        "    tools_condition,\n",
        ")\n",
        "\n",
        "builder.add_edge(\"tools\", \"assistant\")\n",
        "react_graph = builder.compile()\n",
        "\n",
        "# Visualização\n",
        "display(Image(react_graph.get_graph(xray=True).draw_mermaid_png()))"
      ]
    },
    {
      "cell_type": "code",
      "execution_count": 39,
      "metadata": {
        "id": "ofPevSBi9k1D"
      },
      "outputs": [],
      "source": [
        "messages = [HumanMessage(content=\"Adicione 3 e 4. Multiplique a resposta por 2, então divida por 5.\")]\n",
        "messages = react_graph.invoke({\"messages\": messages})"
      ]
    },
    {
      "cell_type": "code",
      "execution_count": 40,
      "metadata": {
        "colab": {
          "base_uri": "https://localhost:8080/"
        },
        "id": "zj1y_vKh9xrM",
        "outputId": "b9d7406d-c669-427f-ad97-bd698cca2505"
      },
      "outputs": [
        {
          "name": "stdout",
          "output_type": "stream",
          "text": [
            "================================\u001b[1m Human Message \u001b[0m=================================\n",
            "\n",
            "Adicione 3 e 4. Multiplique a resposta por 2, então divida por 5.\n",
            "==================================\u001b[1m Ai Message \u001b[0m==================================\n",
            "Tool Calls:\n",
            "  add (5e025395-2aca-4e85-8374-01c0d4a1bc99)\n",
            " Call ID: 5e025395-2aca-4e85-8374-01c0d4a1bc99\n",
            "  Args:\n",
            "    b: 4.0\n",
            "    a: 3.0\n",
            "=================================\u001b[1m Tool Message \u001b[0m=================================\n",
            "Name: add\n",
            "\n",
            "7\n",
            "==================================\u001b[1m Ai Message \u001b[0m==================================\n",
            "Tool Calls:\n",
            "  multiply (10665717-672c-4b2b-99bd-a00f235c64fd)\n",
            " Call ID: 10665717-672c-4b2b-99bd-a00f235c64fd\n",
            "  Args:\n",
            "    b: 2.0\n",
            "    a: 7.0\n",
            "=================================\u001b[1m Tool Message \u001b[0m=================================\n",
            "Name: multiply\n",
            "\n",
            "14\n",
            "==================================\u001b[1m Ai Message \u001b[0m==================================\n",
            "Tool Calls:\n",
            "  divide (1b0f64e0-0ba8-4652-b375-a3f3f42f5399)\n",
            " Call ID: 1b0f64e0-0ba8-4652-b375-a3f3f42f5399\n",
            "  Args:\n",
            "    b: 5.0\n",
            "    a: 14.0\n",
            "=================================\u001b[1m Tool Message \u001b[0m=================================\n",
            "Name: divide\n",
            "\n",
            "2.8\n",
            "==================================\u001b[1m Ai Message \u001b[0m==================================\n",
            "\n",
            "A resposta é 2.8\n"
          ]
        }
      ],
      "source": [
        "for m in messages['messages']:\n",
        "    m.pretty_print()"
      ]
    },
    {
      "cell_type": "markdown",
      "metadata": {
        "id": "axJseUf--VML"
      },
      "source": [
        "#### **Assistente de Viagens**\n",
        "\n",
        "Esse sistema de agentes irá no ajudar com estimativas de preços de viagens, recomendações de locais para visitar e bares/restaurantes para frequentar."
      ]
    },
    {
      "cell_type": "code",
      "execution_count": 45,
      "metadata": {
        "id": "jllMjhnyYOJ9"
      },
      "outputs": [],
      "source": [
        "# Definir nós de agentes\n",
        "def agente_de_voo(state: MessagesState):\n",
        "    \"\"\"Agente especializado em busca de vôos\"\"\"\n",
        "    print(\"-- Agente de voo --\")\n",
        "    sys_msg = SystemMessage(content='Você é um especialista em reservas de vôos. Foque em achar e explorar APENAS opções de vôos, preços e itinerários. Recomende os vôos mais próximos, também escolha o melhor aeroporto. Responda apenas sobre vôos.')\n",
        "    return {\"messages\": [llm.invoke([sys_msg] + state[\"messages\"])]}\n",
        "\n",
        "\n",
        "def agente_de_hospedagem(state: MessagesState):\n",
        "    \"\"\"Agente especializado em busca de hospedagem\"\"\"\n",
        "    print(\"-- Agente de Hospedagem --\")\n",
        "    sys_msg = SystemMessage(content='Você é um especialista em hotéis. Foque em achar e explorar APENAS opções de hospedagem, preços e acomodações. Dê exemplos com preços e localidades variadas. Responda apenas sobre hospedagem.')\n",
        "    return {\"messages\": [llm.invoke([sys_msg] + state[\"messages\"])]}\n",
        "\n",
        "\n",
        "def agente_de_restaurantes(state: MessagesState):\n",
        "    \"\"\"Agente especializado em recomendação de restaurantes\"\"\"\n",
        "    print(\"-- Agente de Restaurantes --\")\n",
        "    sys_msg = SystemMessage(content='Você é um especialista em restaurantes. Foque em achar e explorar APENAS opções de restaurantes, preços e cozinhas. Responda apenas sobre restaurantes.')\n",
        "    return {\"messages\": [llm.invoke([sys_msg] + state[\"messages\"])]}\n",
        "\n",
        "\n",
        "def agente_de_atracoes(state: MessagesState):\n",
        "    \"\"\"Agente especializado em atrações turísticas\"\"\"\n",
        "    print(\"-- Agente de Atrações --\")\n",
        "    sys_msg = SystemMessage(content='Você é um especialista em atrações turísticas. Foque em achar e explorar APENAS opções de atrações, atividades e experiências. Responda apenas sobre atividades e pontos turísticos.')\n",
        "    return {\"messages\": [llm.invoke([sys_msg] + state[\"messages\"])]}\n",
        "\n",
        "\n",
        "def agente_coordenador(state: MessagesState):\n",
        "    \"\"\"Agente coordenador que decide qual agente usar\"\"\"\n",
        "    sys_msg = SystemMessage(content=\"\"\"Você é um coordenador de viagens. Analise o pedido do usuário e decida qual especialista solicitar pesquisa:\n",
        "    - Para buscas referentes a vôos, responda com \"DIRECIONAR_PARA: VOO\"\n",
        "    - Para buscas referentes a hospedagem, responda com \"DIRECIONAR_PARA: HOSPEDAGEM\"\n",
        "    - Para buscas referentes a restaurantes, responda com \"DIRECIONAR_PARA: RESTAURANTE\n",
        "    - Para buscas referentes a atrações, responda com \"DIRECIONAR_PARA: ATRACAO\"\n",
        "    - Se uma requisição precisar de mais de um espcialista, liste eles em ordem: \"DIRECIONAR_PARA: [ESPECIALISTA_1] [ESPECIALISTA_2] ...s [ESPECIALISTA_N]\".\n",
        "    Você também deve informar o que o usuário está solicitando.\n",
        "    - Caso a pergunta não esteja relacionada a viagens, retorne END.\n",
        "    \"\"\")\n",
        "    return {\"messages\": [llm.invoke([sys_msg] + state[\"messages\"])]}\n",
        "\n",
        "\n",
        "def agente_agregador(state: MessagesState):\n",
        "    \"\"\"Agente que agrega as respostas de todos os agentes\"\"\"\n",
        "    responses = [msg.content for msg in state[\"messages\"]]\n",
        "    prompt = [\n",
        "        SystemMessage(content=\"Você deve agregar e resumir todas as respostas que você receber dos agentes em um output.\"),\n",
        "        HumanMessage(content=f\"Agora, agregue as seguintes respostas encontradas: {responses}\")\n",
        "    ]\n",
        "    result = llm.invoke(prompt)\n",
        "    return {\"messages\": result}\n"
      ]
    },
    {
      "cell_type": "code",
      "execution_count": 47,
      "metadata": {
        "colab": {
          "base_uri": "https://localhost:8080/",
          "height": 449
        },
        "id": "gMTmAcCUa8B6",
        "outputId": "aae3a152-2d5a-438c-fd52-a9807b889912"
      },
      "outputs": [
        {
          "data": {
            "image/png": "[encoded data removed]",
            "text/plain": [
              "<IPython.core.display.Image object>"
            ]
          },
          "metadata": {},
          "output_type": "display_data"
        }
      ],
      "source": [
        "# Construindo o grafo\n",
        "builder = StateGraph(MessagesState)\n",
        "\n",
        "# Adicionando nós\n",
        "builder.add_node(\"coordenador\", agente_coordenador)\n",
        "builder.add_node(\"agente_voo\", agente_de_voo)\n",
        "builder.add_node(\"agente_hospedagem\", agente_de_hospedagem)\n",
        "builder.add_node(\"agente_restaurante\", agente_de_restaurantes)\n",
        "builder.add_node(\"agente_atracao\", agente_de_atracoes)\n",
        "builder.add_node(\"agregador\", agente_agregador)\n",
        "\n",
        "# Adicionando arestas\n",
        "builder.add_edge(START, \"coordenador\")\n",
        "\n",
        "# Adicionando arestas condicionais baseando-se na escolha do coordenador\n",
        "def route_to_agent(state):\n",
        "    \"\"\"Direciona para o agente apropriado com base na escolha do coordenador\"\"\"\n",
        "    last_message = state[\"messages\"][-1]\n",
        "    agents_list = []\n",
        "    if not isinstance(last_message, AIMessage):\n",
        "        agents_list.append(\"coordenador\")\n",
        "\n",
        "\n",
        "    content = last_message.content\n",
        "    if \"VOO\" in content:\n",
        "        agents_list.append(\"agente_voo\")\n",
        "    if \"HOSPEDAGEM\" in content:\n",
        "         agents_list.append(\"agente_hospedagem\")\n",
        "    if \"RESTAURANTE\" in content:\n",
        "        agents_list.append(\"agente_restaurante\")\n",
        "    if \"ATRACAO\" in content:\n",
        "        agents_list.append(\"agente_atracao\")\n",
        "    else:\n",
        "        agents_list.append(END)\n",
        "    return agents_list\n",
        "\n",
        "\n",
        "builder.add_conditional_edges(\n",
        "    \"coordenador\",\n",
        "    route_to_agent,\n",
        "    {\n",
        "        \"agente_voo\": \"agente_voo\",\n",
        "        \"agente_hospedagem\": \"agente_hospedagem\",\n",
        "        \"agente_restaurante\": \"agente_restaurante\",\n",
        "        \"agente_atracao\": \"agente_atracao\",\n",
        "        \"coordenador\": \"coordenador\",\n",
        "        END:END\n",
        "    }\n",
        ")\n",
        "\n",
        "builder.add_edge(\"agente_voo\", \"agregador\")\n",
        "builder.add_edge(\"agente_hospedagem\", \"agregador\")\n",
        "builder.add_edge(\"agente_restaurante\", \"agregador\")\n",
        "builder.add_edge(\"agente_atracao\", \"agregador\")\n",
        "\n",
        "builder.add_edge(\"agregador\", END)\n",
        "\n",
        "# Compilar grafo\n",
        "grafo_viagem = builder.compile()\n",
        "\n",
        "display(Image(grafo_viagem.get_graph(xray=True).draw_mermaid_png()))"
      ]
    },
    {
      "cell_type": "code",
      "execution_count": 28,
      "metadata": {
        "id": "q8sOqdrddLOF"
      },
      "outputs": [],
      "source": [
        "messages = [HumanMessage(content=\"Me diga a receita de torta de chocolate\")]\n",
        "result = grafo_viagem.invoke({\"messages\": messages})"
      ]
    },
    {
      "cell_type": "code",
      "execution_count": 29,
      "metadata": {
        "colab": {
          "base_uri": "https://localhost:8080/"
        },
        "id": "7CmN3cHfeSbi",
        "outputId": "05e385c4-06d5-44f1-9447-7735cfafedcc"
      },
      "outputs": [
        {
          "name": "stdout",
          "output_type": "stream",
          "text": [
            "================================\u001b[1m Human Message \u001b[0m=================================\n",
            "\n",
            "Me diga a receita de torta de chocolate\n",
            "==================================\u001b[1m Ai Message \u001b[0m==================================\n",
            "\n",
            "END\n"
          ]
        }
      ],
      "source": [
        "for m in result['messages']:\n",
        "    m.pretty_print()"
      ]
    },
    {
      "cell_type": "code",
      "execution_count": 33,
      "metadata": {
        "colab": {
          "base_uri": "https://localhost:8080/"
        },
        "id": "OP7Si14Fedph",
        "outputId": "96f51d9b-eedd-470a-ef7b-b1a7aa7f1fb0"
      },
      "outputs": [
        {
          "name": "stdout",
          "output_type": "stream",
          "text": [
            "-- Agente de voo ---- Agente de Hospedagem --\n",
            "\n"
          ]
        }
      ],
      "source": [
        "messages = [HumanMessage(content=\"Quero ir para manaus de campina grande, me recomende voos e hoteis\")]\n",
        "result = grafo_viagem.invoke({\"messages\": messages})"
      ]
    },
    {
      "cell_type": "code",
      "execution_count": 34,
      "metadata": {
        "colab": {
          "base_uri": "https://localhost:8080/"
        },
        "id": "KGlFK4fWX0iT",
        "outputId": "ef1d29a0-b0ca-44dc-b5dd-17964ed7b993"
      },
      "outputs": [
        {
          "name": "stdout",
          "output_type": "stream",
          "text": [
            "================================\u001b[1m Human Message \u001b[0m=================================\n",
            "\n",
            "Quero ir para manaus de campina grande, me recomende voos e hoteis\n",
            "==================================\u001b[1m Ai Message \u001b[0m==================================\n",
            "\n",
            "DIRECIONAR_PARA: VOO HOSPEDAGEM. O usuário quer pesquisar voos de Campina Grande para Manaus e recomendações de hotéis em Manaus.\n",
            "==================================\u001b[1m Ai Message \u001b[0m==================================\n",
            "\n",
            "\n",
            "\n",
            "Ok, vamos focar nas opções de hospedagem em Manaus. Para te dar as melhores recomendações, preciso saber um pouco mais sobre o que você procura:\n",
            "\n",
            "*   **Qual o seu orçamento?** Hotéis de luxo, opções mais econômicas, hostels?\n",
            "*   **Que tipo de experiência você busca?** Perto de atrações turísticas, em meio à natureza, com piscina e outras comodidades?\n",
            "*   **Quais são suas prioridades?** Café da manhã incluso, Wi-Fi gratuito, estacionamento, acessibilidade?\n",
            "\n",
            "Enquanto isso, posso te dar alguns exemplos de hotéis em Manaus com diferentes faixas de preço e localizações:\n",
            "\n",
            "**Opções de Luxo:**\n",
            "\n",
            "*   **Hotel Villa Amazônia:** Localizado no centro histórico de Manaus, este hotel boutique oferece uma experiência sofisticada com piscina, restaurante e quartos elegantes. Diárias a partir de R$ 600.\n",
            "*   **Juma Ópera Hotel:** Também no centro, este hotel se destaca pela arquitetura clássica e serviços de alta qualidade. Diárias a partir de R$ 500.\n",
            "\n",
            "**Opções de Custo Moderado:**\n",
            "\n",
            "*   **Hotel Saint Paul:** Bem localizado, oferece conforto e praticidade com um bom custo-benefício. Diárias a partir de R$ 300.\n",
            "*   **Express Vieiralves:** Uma opção moderna e funcional, ideal para quem busca uma estadia confortável sem gastar muito. Diárias a partir de R$ 250.\n",
            "\n",
            "**Opções Econômicas:**\n",
            "\n",
            "*   **Local Hostel Manaus:** Para quem viaja com orçamento limitado, este hostel oferece quartos compartilhados e privativos a preços acessíveis. Diárias a partir de R$ 80.\n",
            "*   **Hotel Lagoa:** Uma opção simples e econômica, com boa localização e fácil acesso a diversos pontos da cidade. Diárias a partir de R$ 150.\n",
            "\n",
            "**Hospedagem em Meio à Natureza (próximo a Manaus):**\n",
            "\n",
            "*   **Juma Amazon Lodge:** Uma experiência única na selva amazônica, com bangalôs rústicos e atividades de ecoturismo. Diárias a partir de R$ 1500 (com tudo incluso).\n",
            "*   **Anavilhanas Jungle Lodge:** Localizado no Arquipélago de Anavilhanas, oferece uma imersão na natureza com conforto e sofisticação. Diárias a partir de R$ 1200 (com tudo incluso).\n",
            "\n",
            "Com mais informações sobre suas preferências, posso te dar recomendações mais personalizadas e te ajudar a encontrar o hotel perfeito para sua viagem a Manaus!\n",
            "==================================\u001b[1m Ai Message \u001b[0m==================================\n",
            "==================================\u001b[1m Ai Message \u001b[0m==================================\n",
            "\n",
            "O usuário deseja viajar de Campina Grande para Manaus e precisa de recomendações de voos e hotéis. Para os hotéis, foram solicitadas informações adicionais sobre orçamento, tipo de experiência desejada e prioridades (café da manhã, Wi-Fi, estacionamento, acessibilidade).\n",
            "\n",
            "Enquanto isso, foram apresentadas algumas opções de hotéis em Manaus:\n",
            "\n",
            "*   **Opções de Luxo:** Hotel Villa Amazônia (a partir de R$ 600) e Juma Ópera Hotel (a partir de R$ 500).\n",
            "*   **Opções de Custo Moderado:** Hotel Saint Paul (a partir de R$ 300) e Express Vieiralves (a partir de R$ 250).\n",
            "*   **Opções Econômicas:** Local Hostel Manaus (a partir de R$ 80) e Hotel Lagoa (a partir de R$ 150).\n",
            "*   **Hospedagem em Meio à Natureza (próximo a Manaus):** Juma Amazon Lodge (a partir de R$ 1500 com tudo incluso) e Anavilhanas Jungle Lodge (a partir de R$ 1200 com tudo incluso).\n"
          ]
        }
      ],
      "source": [
        "for m in result['messages']:\n",
        "    m.pretty_print()"
      ]
    },
    {
      "cell_type": "code",
      "execution_count": 32,
      "metadata": {
        "id": "GCGbOVyOX2an"
      },
      "outputs": [
        {
          "name": "stdout",
          "output_type": "stream",
          "text": [
            "-- Agente de Atrações --\n",
            "================================\u001b[1m Human Message \u001b[0m=================================\n",
            "\n",
            "Quais as melhores atrações de Campina Grande - PB?\n",
            "==================================\u001b[1m Ai Message \u001b[0m==================================\n",
            "\n",
            "DIRECIONAR_PARA: ATRACAO\n",
            "O usuário está solicitando informações sobre as melhores atrações em Campina Grande, Paraíba.\n",
            "==================================\u001b[1m Ai Message \u001b[0m==================================\n",
            "\n",
            "\n",
            "\n",
            "Campina Grande oferece uma variedade de atrações turísticas interessantes. Aqui estão algumas das melhores:\n",
            "\n",
            "*   **O Maior São João do Mundo:** Se você visitar Campina Grande em junho, não pode perder o Maior São João do Mundo. É uma festa junina gigante com shows, comidas típicas, apresentações culturais e muita animação.\n",
            "\n",
            "*   **Parque do Povo:** O coração do Maior São João do Mundo, o Parque do Povo é um espaço amplo que abriga diversos palcos, barracas de comida e bebida, e áreas de lazer. Mesmo fora da época junina, o parque é um local agradável para passear e apreciar a vista da cidade.\n",
            "\n",
            "*   **Museu de Arte Popular da Paraíba (Museu dos Três Pandeiros):** Projetado por Oscar Niemeyer, este museu tem uma arquitetura moderna e abriga um acervo de arte popular paraibana, com destaque para o artesanato em barro, madeira e tecido.\n",
            "\n",
            "*   **Açude Velho:** Um dos cartões postais da cidade, o Açude Velho é um lago artificial onde você pode fazer passeios de pedalinho, caminhar pela orla e apreciar a vista.\n",
            "\n",
            "*   **Teatro Municipal Severino Cabral:** Um belo teatro com arquitetura clássica, onde você pode assistir a peças teatrais, shows musicais e outras apresentações culturais.\n",
            "\n",
            "*   **Estação Velha:** Antiga estação ferroviária da cidade, hoje abriga um centro cultural com exposições, eventos e atividades para todas as idades.\n",
            "\n",
            "*   **Mirante do Cristo Redentor:** Localizado no alto de um morro, o mirante oferece uma vista panorâmica da cidade.\n",
            "\n",
            "*   **Feira Central:** Uma feira popular onde você encontra de tudo, desde frutas e verduras frescas até artesanato local e roupas. É um ótimo lugar para conhecer a cultura e os costumes da região.\n",
            "==================================\u001b[1m Ai Message \u001b[0m==================================\n",
            "\n",
            "O usuário busca informações sobre as melhores atrações turísticas em Campina Grande, Paraíba. As principais atrações incluem:\n",
            "\n",
            "*   **O Maior São João do Mundo:** Festa junina gigante com shows, comidas típicas e apresentações culturais (ocorre em junho).\n",
            "*   **Parque do Povo:** Espaço amplo que abriga o Maior São João do Mundo, com palcos, barracas e áreas de lazer.\n",
            "*   **Museu de Arte Popular da Paraíba (Museu dos Três Pandeiros):** Museu com arquitetura moderna de Oscar Niemeyer, com acervo de arte popular paraibana.\n",
            "*   **Açude Velho:** Lago artificial para passeios de pedalinho e caminhadas.\n",
            "*   **Teatro Municipal Severino Cabral:** Teatro com arquitetura clássica para peças, shows e apresentações.\n",
            "*   **Estação Velha:** Antiga estação ferroviária, agora centro cultural com exposições e eventos.\n",
            "*   **Mirante do Cristo Redentor:** Mirante com vista panorâmica da cidade.\n",
            "*   **Feira Central:** Feira popular com frutas, verduras, artesanato e roupas.\n"
          ]
        }
      ],
      "source": [
        "messages = [HumanMessage(content=\"Quais as melhores atrações de Campina Grande - PB?\")]\n",
        "result = grafo_viagem.invoke({\"messages\": messages})\n",
        "\n",
        "for m in result['messages']:\n",
        "    m.pretty_print()"
      ]
    }
  ],
  "metadata": {
    "colab": {
      "provenance": []
    },
    "kernelspec": {
      "display_name": ".venv",
      "language": "python",
      "name": "python3"
    },
    "language_info": {
      "codemirror_mode": {
        "name": "ipython",
        "version": 3
      },
      "file_extension": ".py",
      "mimetype": "text/x-python",
      "name": "python",
      "nbconvert_exporter": "python",
      "pygments_lexer": "ipython3",
      "version": "3.11.13"
    }
  },
  "nbformat": 4,
  "nbformat_minor": 0
}
