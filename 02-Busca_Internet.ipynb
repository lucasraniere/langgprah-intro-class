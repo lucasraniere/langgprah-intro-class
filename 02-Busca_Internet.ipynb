{
 "cells": [
  {
   "cell_type": "markdown",
   "id": "17eadef7",
   "metadata": {},
   "source": [
    "### **Busca na Internet com Tavily**\n",
    "\n",
    "*Imports* e *setup* de chaves de API.\n",
    "\n",
    "- Google Gemini API Key: https://aistudio.google.com/app/apikey?hl=pt-br\n",
    "- Tavily API Key: https://app.tavily.com/home\n",
    "\n",
    "Instalção das bibliotecas necessárias"
   ]
  },
  {
   "cell_type": "code",
   "execution_count": null,
   "id": "87154284",
   "metadata": {},
   "outputs": [
    {
     "name": "stdout",
     "output_type": "stream",
     "text": [
      "fish: Unknown command: pip\n",
      "fish: \n",
      "pip install -U -q langgraph langchain langchain-google-genai langchain_tavily\n",
      "^~^\n"
     ]
    }
   ],
   "source": [
    "# !pip install -U -q langgraph langchain langchain-google-genai langchain_tavily"
   ]
  },
  {
   "cell_type": "code",
   "execution_count": 1,
   "id": "917d95eb",
   "metadata": {},
   "outputs": [],
   "source": [
    "import os, getpass\n",
    "from dotenv import load_dotenv\n",
    "load_dotenv()\n",
    "\n",
    "def _set_env(var: str):\n",
    "    if not os.environ.get(var):\n",
    "        os.environ[var] = getpass.getpass(f\"{var}: \")\n",
    "    if not os.environ.get(\"TAVILY_API_KEY\"):\n",
    "        os.environ[\"TAVILY_API_KEY\"] = getpass.getpass(\"TAVILY_API_KEY: \")\n",
    "_set_env(\"GOOGLE_API_KEY\")\n",
    "_set_env(\"TAVILY_API_KEY\")"
   ]
  },
  {
   "cell_type": "markdown",
   "id": "8e4ff567",
   "metadata": {},
   "source": [
    "Tavily é uma API de busca presente nas opções pré-cosntruîdas do LangChain"
   ]
  },
  {
   "cell_type": "code",
   "execution_count": 2,
   "id": "7fc99d81",
   "metadata": {},
   "outputs": [
    {
     "data": {
      "text/plain": [
       "{'query': 'O que é um Agente de IA?',\n",
       " 'follow_up_questions': None,\n",
       " 'answer': None,\n",
       " 'images': [],\n",
       " 'results': [{'url': 'https://aws.amazon.com/pt/what-is/ai-agents/',\n",
       "   'title': 'O que são agentes de IA?',\n",
       "   'content': 'Um agente de inteligência artificial (IA) é um programa de software que pode interagir com seu ambiente, coletar dados e usar os dados para realizar tarefas autodeterminadas para atingir metas predeterminadas. Em seguida, o agente de IA aplica os dados para tomar uma decisão informada. Enquanto isso, uma arquitetura que hospeda um agente de software de IA pode usar um prompt de texto, API e bancos de dados para permitir operações autônomas. Durante esse processo, o agente pode criar e atuar em mais tarefas para alcançar o resultado final. O Amazon Connect Contact Lens é um agente de IA autônomo que sua organização pode usar para gerenciar e gerar análises de centrais de atendimento em tempo real.',\n",
       "   'score': 0.9549888,\n",
       "   'raw_content': None},\n",
       "  {'url': 'https://www.cloudflare.com/pt-br/learning/ai/what-is-agentic-ai/',\n",
       "   'title': 'O que é um agente de IA? | IA agêntica',\n",
       "   'content': 'Um agente de IA é um programa de computador alimentado por inteligência artificial que pode realizar de forma autônoma tarefas complexas em nome de usuários',\n",
       "   'score': 0.9492242,\n",
       "   'raw_content': None}],\n",
       " 'response_time': 0.97,\n",
       " 'request_id': '2f5f73c5-59db-4d3d-9863-066a5498ec65'}"
      ]
     },
     "execution_count": 2,
     "metadata": {},
     "output_type": "execute_result"
    }
   ],
   "source": [
    "from langchain_tavily import TavilySearch\n",
    "\n",
    "tool = TavilySearch(max_results=2) # instanciando o TavilySearch\n",
    "tool.invoke(\"O que é um Agente de IA?\") # query de pesquisa"
   ]
  },
  {
   "cell_type": "code",
   "execution_count": 3,
   "id": "81f07c94",
   "metadata": {},
   "outputs": [],
   "source": [
    "from langchain_google_genai import ChatGoogleGenerativeAI\n",
    "\n",
    "llm = ChatGoogleGenerativeAI(model=\"gemini-2.5-flash\", temperature=0) # instanciando o modelo Gemini"
   ]
  },
  {
   "cell_type": "code",
   "execution_count": 5,
   "id": "165866de",
   "metadata": {},
   "outputs": [],
   "source": [
    "# criando a função (tool) de busca online\n",
    "def search_online(query:str) -> dict:\n",
    "    \"\"\"Ferramenta de busca online que\n",
    "    utiliza o Tavily\n",
    "\n",
    "    Args:\n",
    "        query (str): requisição de pesquisa.\n",
    "    \"\"\"\n",
    "    tool = TavilySearch(max_results=2)\n",
    "    results = tool.invoke(query)\n",
    "    return results\n",
    "\n",
    "tools = [search_online]\n",
    "llm_with_tools = llm.bind_tools(tools) # adicionando a função de busca online ao modelo Gemini"
   ]
  },
  {
   "cell_type": "markdown",
   "id": "03441098",
   "metadata": {},
   "source": [
    "Criação do grafo"
   ]
  },
  {
   "cell_type": "code",
   "execution_count": 6,
   "id": "c2c041d8",
   "metadata": {},
   "outputs": [],
   "source": [
    "from langgraph.graph import MessagesState\n",
    "from langchain_core.messages import HumanMessage, SystemMessage\n",
    "\n",
    "class State(MessagesState):\n",
    "    # Adicione qualquer chave necessária além de messages\n",
    "    pass\n",
    "\n",
    "# Mensagem de sistema\n",
    "sys_msg = SystemMessage(content='Você é um ajudante útil encarregado de fazer buscas online.')\n",
    "\n",
    "# Nó\n",
    "def assistant(state: MessagesState):\n",
    "    return {\"messages\": [llm_with_tools.invoke([sys_msg] + state[\"messages\"])]}"
   ]
  },
  {
   "cell_type": "code",
   "execution_count": 7,
   "id": "7d9d4662",
   "metadata": {},
   "outputs": [
    {
     "data": {
      "image/png": "[encoded data removed]",
      "text/plain": [
       "<IPython.core.display.Image object>"
      ]
     },
     "metadata": {},
     "output_type": "display_data"
    }
   ],
   "source": [
    "from langgraph.graph import START, StateGraph\n",
    "from langgraph.prebuilt import tools_condition\n",
    "from langgraph.prebuilt import ToolNode\n",
    "from IPython.display import Image, display\n",
    "\n",
    "# Grafo\n",
    "builder = StateGraph(MessagesState)\n",
    "\n",
    "# Definição de nós\n",
    "builder.add_node(\"assistant\", assistant)\n",
    "builder.add_node(\"tools\", ToolNode(tools))\n",
    "\n",
    "# Definição de arestas\n",
    "builder.add_edge(START, \"assistant\")\n",
    "builder.add_conditional_edges(\n",
    "    \"assistant\",\n",
    "    # if the latest message (result) from assistant is a tool call -> tools_condition routes to tools\n",
    "    # if the latest message (result) from assistant is not a tool call -> tools_condition routes to end\n",
    "    tools_condition,\n",
    ")\n",
    "\n",
    "builder.add_edge(\"tools\", \"assistant\")\n",
    "react_graph = builder.compile()\n",
    "\n",
    "# Visualização\n",
    "display(Image(react_graph.get_graph(xray=True).draw_mermaid_png()))"
   ]
  },
  {
   "cell_type": "code",
   "execution_count": 8,
   "id": "39041f1e",
   "metadata": {},
   "outputs": [
    {
     "name": "stdout",
     "output_type": "stream",
     "text": [
      "================================\u001b[1m Human Message \u001b[0m=================================\n",
      "\n",
      "O que é langgraph\n",
      "==================================\u001b[1m Ai Message \u001b[0m==================================\n",
      "Tool Calls:\n",
      "  search_online (71c5933a-f65d-4860-9df9-ff3403717fb2)\n",
      " Call ID: 71c5933a-f65d-4860-9df9-ff3403717fb2\n",
      "  Args:\n",
      "    query: langgraph\n",
      "=================================\u001b[1m Tool Message \u001b[0m=================================\n",
      "Name: search_online\n",
      "\n",
      "{\"query\": \"langgraph\", \"follow_up_questions\": null, \"answer\": null, \"images\": [], \"results\": [{\"url\": \"https://www.ibm.com/think/topics/langgraph\", \"title\": \"What is LangGraph? - IBM\", \"content\": \"LangGraph, created by LangChain, is an open source AI agent framework designed to build, deploy and manage complex generative AI agent workflows. At its core, LangGraph uses the power of graph-based architectures to model and manage the intricate relationships between various components of an AI agent workflow. LangGraph illuminates the processes within an AI workflow, allowing full transparency of the agent’s state. By combining these technologies with a set of APIs and tools, LangGraph provides users with a versatile platform for developing AI solutions and workflows including chatbots, state graphs and other agent-based systems. **Nodes**: In LangGraph, nodes represent individual components or agents within an AI workflow. LangGraph uses enhanced decision-making by modeling complex relationships between nodes, which means it uses AI agents to analyze their past actions and feedback.\", \"score\": 0.9288814, \"raw_content\": null}, {\"url\": \"https://www.reddit.com/r/AI_Agents/comments/1l4uq7v/why_use_langgraph/\", \"title\": \"Why use LangGraph? : r/AI_Agents - Reddit\", \"content\": \"LangGraph emphasizes graph-based workflows and state management, making it ideal for complex applications with sophisticated logic and memory persistence.\", \"score\": 0.8719229, \"raw_content\": null}], \"response_time\": 1.64, \"request_id\": \"b2fe94ba-a424-4a43-9ebd-891400840ab9\"}\n",
      "==================================\u001b[1m Ai Message \u001b[0m==================================\n",
      "\n",
      "LangGraph é um framework de agente de IA de código aberto criado pela LangChain, projetado para construir, implantar e gerenciar fluxos de trabalho complexos de agentes de IA generativos. Ele utiliza arquiteturas baseadas em grafos para modelar e gerenciar as intrincadas relações entre os vários componentes de um fluxo de trabalho de agente de IA.\n",
      "\n",
      "Em LangGraph, os \"nós\" representam componentes ou agentes individuais dentro de um fluxo de trabalho de IA. Ele permite uma tomada de decisão aprimorada ao modelar relações complexas entre esses nós, o que significa que ele usa agentes de IA para analisar suas ações e feedback anteriores.\n",
      "\n",
      "LangGraph é ideal para aplicações complexas com lógica sofisticada e persistência de memória, enfatizando fluxos de trabalho baseados em grafos e gerenciamento de estado. Ele fornece uma plataforma versátil para desenvolver soluções e fluxos de trabalho de IA, incluindo chatbots, grafos de estado e outros sistemas baseados em agentes.\n"
     ]
    }
   ],
   "source": [
    "messages = [HumanMessage(content=\"O que é langgraph\")]\n",
    "messages = react_graph.invoke({\"messages\": messages})\n",
    "\n",
    "for m in messages['messages']:\n",
    "    m.pretty_print()"
   ]
  }
 ],
 "metadata": {
  "kernelspec": {
   "display_name": ".venv",
   "language": "python",
   "name": "python3"
  },
  "language_info": {
   "codemirror_mode": {
    "name": "ipython",
    "version": 3
   },
   "file_extension": ".py",
   "mimetype": "text/x-python",
   "name": "python",
   "nbconvert_exporter": "python",
   "pygments_lexer": "ipython3",
   "version": "3.11.13"
  }
 },
 "nbformat": 4,
 "nbformat_minor": 5
}
